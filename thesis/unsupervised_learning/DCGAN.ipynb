{
 "cells": [
  {
   "cell_type": "markdown",
   "metadata": {
    "deletable": true,
    "editable": true
   },
   "source": [
    "# DCGAN\n",
    "*Zhiang Chen, April 2017*\n",
    "\n",
    "Using the package: https://github.com/sugyan/tf-dcgan"
   ]
  },
  {
   "cell_type": "markdown",
   "metadata": {
    "deletable": true,
    "editable": true
   },
   "source": [
    "### 1. Import packages"
   ]
  },
  {
   "cell_type": "code",
   "execution_count": 1,
   "metadata": {
    "collapsed": false,
    "deletable": true,
    "editable": true
   },
   "outputs": [],
   "source": [
    "import numpy as np\n",
    "import tensorflow as tf\n",
    "from six.moves import cPickle as pickle\n",
    "import matplotlib.pyplot as plt\n",
    "import random\n",
    "import operator\n",
    "import time\n",
    "import os\n",
    "import math\n",
    "import deepdish as dd\n",
    "from tensorflow.contrib.learn.python.learn.datasets.mnist import read_data_sets\n",
    "from math import *\n",
    "import time\n",
    "from dcgan import DCGAN\n",
    "from datetime import datetime"
   ]
  },
  {
   "cell_type": "markdown",
   "metadata": {
    "deletable": true,
    "editable": true
   },
   "source": [
    "### 2. Import data"
   ]
  },
  {
   "cell_type": "code",
   "execution_count": 2,
   "metadata": {
    "collapsed": false,
    "deletable": true,
    "editable": true
   },
   "outputs": [
    {
     "name": "stdout",
     "output_type": "stream",
     "text": [
      "('training dataset', (427680, 11), (427680, 10), (427680, 48, 48))\n",
      "('validation dataset', (71226, 11), (71226, 10), (71226, 48, 48))\n",
      "('testing dataset', (71280, 11), (71280, 10), (71280, 48, 48))\n"
     ]
    }
   ],
   "source": [
    "wd = os.getcwd()\n",
    "os.chdir('..')\n",
    "file_name = 'resized_depth_data2.h5'\n",
    "\n",
    "save = dd.io.load(file_name)\n",
    "\n",
    "train_objects = save['train_objects']\n",
    "train_orientations = save['train_orientations']\n",
    "train_values = save['train_values']\n",
    "valid_objects = save['valid_objects']\n",
    "valid_orientations = save['valid_orientations']\n",
    "valid_values = save['valid_values']\n",
    "test_objects = save['test_objects']\n",
    "test_orientations = save['test_orientations']\n",
    "test_values = save['test_values']\n",
    "value2object = save['value2object']\n",
    "object2value = save['object2value']\n",
    "del save\n",
    "\n",
    "os.chdir(wd)\n",
    "\n",
    "print('training dataset', train_objects.shape, train_orientations.shape, train_values.shape)\n",
    "print('validation dataset', valid_objects.shape, valid_orientations.shape, valid_values.shape)\n",
    "print('testing dataset', test_objects.shape, test_orientations.shape, test_values.shape)"
   ]
  },
  {
   "cell_type": "markdown",
   "metadata": {
    "deletable": true,
    "editable": true
   },
   "source": [
    "### 3. Shuffle data"
   ]
  },
  {
   "cell_type": "code",
   "execution_count": 3,
   "metadata": {
    "collapsed": false,
    "deletable": true,
    "editable": true
   },
   "outputs": [],
   "source": [
    "image_size = 48\n",
    "\n",
    "def randomize(dataset, classes, angles):\n",
    "    permutation = np.random.permutation(classes.shape[0])\n",
    "    shuffled_dataset = dataset[permutation,:,:]\n",
    "    shuffled_classes = classes[permutation]\n",
    "    shuffled_angles = angles[permutation]\n",
    "    return shuffled_dataset, shuffled_classes, shuffled_angles\n",
    "\n",
    "train_dataset, train_classes, train_angles = randomize(train_values, train_objects, train_orientations)\n",
    "valid_dataset, valid_classes, valid_angles = randomize(valid_values, valid_objects, valid_orientations)\n",
    "test_dataset, test_classes, test_angles = randomize(test_values, test_objects, test_orientations)\n",
    "\n",
    "train_dataset = train_dataset[:150000,:,:]\n",
    "train_angles = train_angles[:150000,:]\n",
    "train_classes = train_classes[:150000,:]\n",
    "\n",
    "valid_dataset = valid_dataset[:5000,:,:]\n",
    "valid_angles = valid_angles[:5000,:]\n",
    "valid_classes = valid_classes[:5000,:]\n",
    "\n",
    "test_dataset = test_dataset[:5000,:,:]\n",
    "test_angles = test_angles[:5000,:]\n",
    "test_classes = test_classes[:5000,:]\n",
    "\n",
    "train_dataset = train_dataset.reshape(-1,image_size,image_size,1)\n",
    "test_dataset = test_dataset.reshape(-1,image_size,image_size,1)\n",
    "n_samples = train_dataset.shape[0]"
   ]
  },
  {
   "cell_type": "markdown",
   "metadata": {
    "deletable": true,
    "editable": true
   },
   "source": [
    "### 4. DCGAN"
   ]
  },
  {
   "cell_type": "code",
   "execution_count": 4,
   "metadata": {
    "collapsed": true
   },
   "outputs": [],
   "source": [
    "FLAGS = tf.app.flags.FLAGS\n",
    "\n",
    "tf.app.flags.DEFINE_string('logdir', 'logdir',\n",
    "                           \"\"\"Directory where to write event logs and checkpoint.\"\"\")\n",
    "tf.app.flags.DEFINE_integer('max_steps', 80000,\n",
    "                            \"\"\"Number of batches to run.\"\"\")\n",
    "tf.app.flags.DEFINE_string('images_dir', 'images',\n",
    "                           \"\"\"Directory where to write generated images.\"\"\")"
   ]
  },
  {
   "cell_type": "code",
   "execution_count": 5,
   "metadata": {
    "collapsed": false,
    "deletable": true,
    "editable": true,
    "scrolled": true
   },
   "outputs": [],
   "source": [
    "np.random.seed(0)\n",
    "tf.set_random_seed(0)\n",
    "s_size = 3 # s_size*2**4 == image_size\n",
    "\n",
    "dcgan = DCGAN(s_size=s_size)\n",
    "batch_size = dcgan.batch_size #128\n",
    "min_queue_examples = 5000\n",
    "\n",
    "train_images = tf.train.shuffle_batch([train_dataset], \\\n",
    "                                      batch_size=batch_size, \\\n",
    "                                      capacity=min_queue_examples + 3 * batch_size, \\\n",
    "                                      min_after_dequeue=min_queue_examples, \\\n",
    "                                      enqueue_many = True)\n",
    "\n",
    "test_images = tf.train.shuffle_batch([test_dataset], \\\n",
    "                                     batch_size=batch_size, \\\n",
    "                                     capacity=min_queue_examples + 3 * batch_size, \\\n",
    "                                     min_after_dequeue=min_queue_examples, \\\n",
    "                                     enqueue_many = True)\n",
    "\n",
    "losses = dcgan.loss(train_images)"
   ]
  },
  {
   "cell_type": "code",
   "execution_count": null,
   "metadata": {
    "collapsed": false
   },
   "outputs": [
    {
     "name": "stdout",
     "output_type": "stream",
     "text": [
      "INFO:tensorflow:Summary name g loss is illegal; using g_loss instead.\n",
      "INFO:tensorflow:Summary name d loss is illegal; using d_loss instead.\n"
     ]
    }
   ],
   "source": [
    "# feature matching\n",
    "graph = tf.get_default_graph()\n",
    "features_g = tf.reduce_mean(graph.get_tensor_by_name('dg/d/conv4/outputs:0'), 0)\n",
    "features_t = tf.reduce_mean(graph.get_tensor_by_name('dt/d/conv4/outputs:0'), 0)\n",
    "losses[dcgan.g] += tf.multiply(tf.nn.l2_loss(features_g - features_t), 0.05)\n",
    "\n",
    "tf.summary.scalar('g loss', losses[dcgan.g])\n",
    "tf.summary.scalar('d loss', losses[dcgan.d])\n",
    "train_op = dcgan.train(losses, learning_rate=0.0001)\n",
    "summary_op = tf.summary.merge_all()\n",
    "\n",
    "g_saver = tf.train.Saver(dcgan.g.variables, max_to_keep=15)\n",
    "d_saver = tf.train.Saver(dcgan.d.variables, max_to_keep=15)\n",
    "g_checkpoint_path = os.path.join(FLAGS.logdir, '/g.ckpt')\n",
    "d_checkpoint_path = os.path.join(FLAGS.logdir, '/d.ckpt')\n",
    "\n",
    "config = tf.ConfigProto()\n",
    "config.gpu_options.allow_growth=True\n",
    "config.log_device_placement = True\n",
    "config.gpu_options.allocator_type = 'BFC' "
   ]
  },
  {
   "cell_type": "code",
   "execution_count": null,
   "metadata": {
    "collapsed": false,
    "scrolled": false
   },
   "outputs": [],
   "source": [
    "with tf.Session(config=config) as sess:\n",
    "    summary_writer = tf.summary.FileWriter(FLAGS.logdir, graph=sess.graph)\n",
    "    # restore or initialize generator\n",
    "    sess.run(tf.global_variables_initializer())\n",
    "    '''\n",
    "    if os.path.exists(g_checkpoint_path):\n",
    "        print('restore variables:')\n",
    "        for v in dcgan.g.variables:\n",
    "            print('  ' + v.name)\n",
    "        g_saver.restore(sess, g_checkpoint_path)\n",
    "    if os.path.exists(d_checkpoint_path):\n",
    "        print('restore variables:')\n",
    "        for v in dcgan.d.variables:\n",
    "            print('  ' + v.name)\n",
    "        d_saver.restore(sess, d_checkpoint_path)\n",
    "    '''\n",
    "        \n",
    "    try: \n",
    "        g_saver.restore(sess, './logdir/g.ckpt')\n",
    "        print ('restore variables:')\n",
    "        for v in dcgan.g.variables:\n",
    "            print('  ' + v.name)\n",
    "    except:\n",
    "        print \"g using random initialization\"\n",
    "            \n",
    "    try: \n",
    "        d_saver.restore(sess, './logdir/d.ckpt')\n",
    "        print('restore variables:')\n",
    "        for v in dcgan.d.variables:\n",
    "            print('  ' + v.name)\n",
    "    except:\n",
    "        print \"d using random initialization\"\n",
    "        \n",
    "    # setup for monitoring\n",
    "    sample_z = sess.run(tf.random_uniform([dcgan.batch_size, dcgan.z_dim], minval=-1.0, maxval=1.0))\n",
    "    images = dcgan.sample_images(5, 5, inputs=sample_z)\n",
    "\n",
    "    # start training\n",
    "    coord = tf.train.Coordinator()\n",
    "    threads = tf.train.start_queue_runners(sess=sess, coord=coord)\n",
    "    \n",
    "    dcgan.retrain\n",
    "    \n",
    "    for step in range(FLAGS.max_steps):\n",
    "        start_time = time.time()\n",
    "        _, g_loss, d_loss = sess.run([train_op, losses[dcgan.g], losses[dcgan.d]])\n",
    "        duration = time.time() - start_time\n",
    "        \n",
    "        if step%20 == 0:\n",
    "            print('{}: step {:5d}, loss = (G: {:.8f}, D: {:.8f}) ({:.3f} sec/batch)'.format(\n",
    "                datetime.now(), step, g_loss, d_loss, duration))\n",
    "\n",
    "        # save generated images\n",
    "        if step % 100 == 0:\n",
    "            # summary\n",
    "            summary_str = sess.run(summary_op)\n",
    "            summary_writer.add_summary(summary_str, step)\n",
    "            # sample images\n",
    "            filename = os.path.join(FLAGS.images_dir, '%05d.jpg' % step)\n",
    "            with open(filename, 'wb') as f:\n",
    "                f.write(sess.run(images))\n",
    "        # save variables\n",
    "        if (step+1) == FLAGS.max_steps:\n",
    "            g_saver.save(sess, './logdir/g.ckpt')\n",
    "            d_saver.save(sess, './logdir/d.ckpt')\n",
    "            \n",
    "    coord.request_stop()\n",
    "    coord.join(threads)"
   ]
  }
 ],
 "metadata": {
  "kernelspec": {
   "display_name": "Python 2",
   "language": "python",
   "name": "python2"
  },
  "language_info": {
   "codemirror_mode": {
    "name": "ipython",
    "version": 2
   },
   "file_extension": ".py",
   "mimetype": "text/x-python",
   "name": "python",
   "nbconvert_exporter": "python",
   "pygments_lexer": "ipython2",
   "version": "2.7.12"
  }
 },
 "nbformat": 4,
 "nbformat_minor": 1
}
