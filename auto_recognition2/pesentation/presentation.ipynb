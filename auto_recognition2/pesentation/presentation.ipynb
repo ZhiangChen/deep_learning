{
 "cells": [
  {
   "cell_type": "markdown",
   "metadata": {},
   "source": [
    "# Tensorflow Introduction and 3D Object Recognition\n",
    "---\n",
    "Zhiang Chen\n",
    "\n",
    "zxc251@case.edu\n",
    "\n",
    "### 1. Useful Python Packages and Tools\n",
    "- [numpy](http://www.numpy.org/)\n",
    "    - The input and output of tensorflow network(computational graph) is numpy.ndarray\n",
    "    - Integrating C/C++\n",
    "    - Effecient n-dimensional array function (filter,reshaping)\n",
    "    - [Easy to learn](https://github.com/ZhiangChen/deep_learning/blob/master/Tutorials/Numpy.ipynb)\n",
    "- [matplotlib.pyplot](http://matplotlib.org/users/pyplot_tutorial.html)\n",
    "- [Jupyter Notebook](http://jupyter.org/)\n",
    "    - Web editor for Python and other programming languages(Octave, R, ...)\n",
    "    - Notes and Codes\n",
    "    - Debugging in several cells\n",
    "    - Easy to install (pip/pip3 install ipython) and [learn](https://github.com/ZhiangChen/deep_learning/blob/master/Tutorials/IPython.ipynb)\n",
    "    \n",
    "### 2. Tensorflow\n",
    "Though there is no strict rule to build and train a network with Tensorflow, 6 steps are highly recommended.\n",
    "https://github.com/ZhiangChen/deep_learning/blob/master/27_objects/lenet5/lenet5.ipynb\n",
    "\n",
    "### 3. 3D Object Recognition\n",
    "ROS & Tensorflow\n",
    "- rospy is a **Python2** package for ROS. The rospy client API enables Python programmers to quickly interface with ROS Topics, Services, Actions, and Parameters.\n",
    "- Tensorflow for **Python2**\n",
    "\n",
    "ROS Package: [auto_recognition2](https://github.com/ZhiangChen/deep_learning/tree/master/auto_recognition2)\n",
    "\n",
    "<img src=\"rosgraph.png\">\n",
    "\n",
    "[auto_recognition2/evaluate_image2](https://github.com/ZhiangChen/deep_learning/blob/master/auto_recognition2/src/evaluate_image2.py)"
   ]
  }
 ],
 "metadata": {
  "kernelspec": {
   "display_name": "Python 3",
   "language": "python",
   "name": "python3"
  },
  "language_info": {
   "codemirror_mode": {
    "name": "ipython",
    "version": 3
   },
   "file_extension": ".py",
   "mimetype": "text/x-python",
   "name": "python",
   "nbconvert_exporter": "python",
   "pygments_lexer": "ipython3",
   "version": "3.4.3"
  }
 },
 "nbformat": 4,
 "nbformat_minor": 0
}
