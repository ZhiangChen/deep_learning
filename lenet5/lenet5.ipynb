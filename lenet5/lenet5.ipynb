{
 "cells": [
  {
   "cell_type": "code",
   "execution_count": 4,
   "metadata": {
    "collapsed": false
   },
   "outputs": [
    {
     "name": "stdout",
     "output_type": "stream",
     "text": [
      "Please copy 'depth_data' into current path!\n"
     ]
    }
   ],
   "source": [
    "from six.moves import cPickle as pickle\n",
    "import matplotlib.pyplot as plt\n",
    "input(\"Please copy 'depth_data' into current path!\")\n",
    "file_name = 'depth_data'\n",
    "with open(file_name, 'rb') as f:\n",
    "    save = pickle.load(f)\n",
    "    dataset = save['dataset']\n",
    "    names = save['names']\n",
    "    orientations = save['orientations']\n",
    "    del save\n",
    "#print(dataset.shape)\n",
    "image1 = dataset[0,:,:]\n",
    "plt.imshow(image1,cmap='Greys_r')\n",
    "plt.show()"
   ]
  }
 ],
 "metadata": {
  "kernelspec": {
   "display_name": "Python 3",
   "language": "python",
   "name": "python3"
  },
  "language_info": {
   "codemirror_mode": {
    "name": "ipython",
    "version": 3
   },
   "file_extension": ".py",
   "mimetype": "text/x-python",
   "name": "python",
   "nbconvert_exporter": "python",
   "pygments_lexer": "ipython3",
   "version": "3.4.3"
  }
 },
 "nbformat": 4,
 "nbformat_minor": 0
}
