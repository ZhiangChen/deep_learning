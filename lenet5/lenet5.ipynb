{
 "cells": [
  {
   "cell_type": "markdown",
   "metadata": {},
   "source": [
    "# LeNet 5\n",
    "---\n",
    "`Zhiang Chen, Wyatt Newman\n",
    "Aug 2016`\n",
    "\n",
    "https://www.youtube.com/watch?v=pJuiyjRpX_0"
   ]
  },
  {
   "cell_type": "markdown",
   "metadata": {},
   "source": [
    "#### 1. import packages"
   ]
  },
  {
   "cell_type": "code",
   "execution_count": 1,
   "metadata": {
    "collapsed": false
   },
   "outputs": [],
   "source": [
    "from __future__ import print_function\n",
    "import numpy as np\n",
    "import tensorflow as tf\n",
    "from six.moves import cPickle as pickle\n",
    "import matplotlib.pyplot as plt\n",
    "import random\n",
    "import operator"
   ]
  },
  {
   "cell_type": "markdown",
   "metadata": {},
   "source": [
    "#### 2. load data"
   ]
  },
  {
   "cell_type": "code",
   "execution_count": 2,
   "metadata": {
    "collapsed": false
   },
   "outputs": [],
   "source": [
    "file_name = 'depth_data'\n",
    "with open(file_name, 'rb') as f:\n",
    "    save = pickle.load(f)\n",
    "    dataset = save['dataset']\n",
    "    names = save['names']\n",
    "    orientations = save['orientations']\n",
    "    del save"
   ]
  },
  {
   "cell_type": "markdown",
   "metadata": {},
   "source": [
    "#### 3. data preprocess"
   ]
  },
  {
   "cell_type": "code",
   "execution_count": 3,
   "metadata": {
    "collapsed": false,
    "scrolled": false
   },
   "outputs": [
    {
     "name": "stdout",
     "output_type": "stream",
     "text": [
      "Training: (22680, 34, 34) (22680,)\n",
      "Validation: (3240, 34, 34) (3240,)\n",
      "Testing: (6480, 34, 34) (6480,)\n"
     ]
    }
   ],
   "source": [
    "# generate labels\n",
    "# for 10 objectives\n",
    "image_size = 34\n",
    "num_labels = 10\n",
    "num_channels = 1\n",
    "\n",
    "num_images = dataset.shape[0]\n",
    "num_train = round(num_images*0.7)\n",
    "num_valid = round(num_images*0.1)\n",
    "num_test = round(num_images*0.2)\n",
    "\n",
    "name2value = {'v8':0,'ducky':1,'stapler':2,'pball':3,'tball':4,'sponge':5,'bclip':6,'tape':7,'gstick':8,'cup':9}\n",
    "value2name = dict((value,name) for name,value in name2value.items())    \n",
    "\n",
    "labels = np.ndarray(num_images, dtype=np.int32)\n",
    "index = 0\n",
    "for name in names:\n",
    "    labels[index] = name2value[name]\n",
    "    index += 1\n",
    "        \n",
    "def randomize(dataset, labels):\n",
    "    permutation = np.random.permutation(labels.shape[0])\n",
    "    shuffled_dataset = dataset[permutation,:,:]\n",
    "    shuffled_labels = labels[permutation]\n",
    "    return shuffled_dataset, shuffled_labels\n",
    "\n",
    "rdataset, rlabels = randomize(dataset, labels)\n",
    "train_dataset = rdataset[0:num_train,:,:]\n",
    "train_labels = rlabels[0:num_train]\n",
    "valid_dataset = rdataset[num_train:(num_train+num_valid),:,:]\n",
    "valid_labels = rlabels[num_train:(num_train+num_valid)]\n",
    "test_dataset = rdataset[(num_train+num_valid):,:,:]\n",
    "test_labels = rlabels[(num_train+num_valid):]\n",
    "print('Training:', train_dataset.shape, train_labels.shape)\n",
    "print('Validation:', valid_dataset.shape, valid_labels.shape)\n",
    "print('Testing:', test_dataset.shape, test_labels.shape)"
   ]
  },
  {
   "cell_type": "markdown",
   "metadata": {},
   "source": [
    "display some images to verify that the data is still correct"
   ]
  },
  {
   "cell_type": "code",
   "execution_count": null,
   "metadata": {
    "collapsed": false
   },
   "outputs": [
    {
     "name": "stdout",
     "output_type": "stream",
     "text": [
      "bclip\n"
     ]
    }
   ],
   "source": [
    "indices = [random.randint(0,train_dataset.shape[0]) for x in range(3)]\n",
    "for index in indices:\n",
    "    image = train_dataset[index,:,:]\n",
    "    print(value2name[train_labels[index]])\n",
    "    plt.imshow(image,cmap='Greys_r')\n",
    "    plt.show()"
   ]
  },
  {
   "cell_type": "code",
   "execution_count": 4,
   "metadata": {
    "collapsed": false,
    "scrolled": false
   },
   "outputs": [
    {
     "name": "stdout",
     "output_type": "stream",
     "text": [
      "......Reformatting......\n",
      "Training set (22680, 34, 34, 1) (22680, 10)\n",
      "Validation set (3240, 34, 34, 1) (3240, 10)\n",
      "Test set (6480, 34, 34, 1) (6480, 10)\n"
     ]
    }
   ],
   "source": [
    "print('......Reformatting......')\n",
    "\n",
    "def reformat(dataset, labels):\n",
    "  dataset = dataset.reshape(\n",
    "    (-1, image_size, image_size, num_channels)).astype(np.float32)\n",
    "  labels = (np.arange(num_labels) == labels[:,None]).astype(np.float32)\n",
    "  return dataset, labels\n",
    "\n",
    "train_dataset, train_labels = reformat(train_dataset, train_labels)\n",
    "valid_dataset, valid_labels = reformat(valid_dataset, valid_labels)\n",
    "test_dataset, test_labels = reformat(test_dataset, test_labels)\n",
    "print('Training set', train_dataset.shape, train_labels.shape)\n",
    "print('Validation set', valid_dataset.shape, valid_labels.shape)\n",
    "print('Test set', test_dataset.shape, test_labels.shape)"
   ]
  },
  {
   "cell_type": "markdown",
   "metadata": {},
   "source": [
    "#### 4. Define Costumed Function"
   ]
  },
  {
   "cell_type": "code",
   "execution_count": 5,
   "metadata": {
    "collapsed": true
   },
   "outputs": [],
   "source": [
    "def accuracy(predictions, labels):\n",
    "  return (100.0 * np.sum(np.argmax(predictions, 1) == np.argmax(labels, 1))\n",
    "          / predictions.shape[0])"
   ]
  },
  {
   "cell_type": "markdown",
   "metadata": {},
   "source": [
    "#### 5. Build NN"
   ]
  },
  {
   "cell_type": "code",
   "execution_count": 6,
   "metadata": {
    "collapsed": false,
    "scrolled": true
   },
   "outputs": [],
   "source": [
    "import time\n",
    "\n",
    "\n",
    "batch_size = 16\n",
    "patch_size = 5\n",
    "kernel_size = 2\n",
    "depth1 = 6 #the depth of 1st convnet\n",
    "depth2 = 16 #the depth of 2nd convnet\n",
    "C5_units = 120\n",
    "F6_units = 84\n",
    "F7_units = 10\n",
    "\n",
    "graph = tf.Graph()\n",
    "\n",
    "with graph.as_default():\n",
    "    # Input data\n",
    "    tf_train_dataset = tf.placeholder(tf.float32, shape=(batch_size, image_size, image_size, num_channels))\n",
    "    # convolution's input is a tensor of shape [batch,in_height,in_width,in_channels]\n",
    "    tf_train_labels = tf.placeholder(tf.float32, shape=(batch_size, 10))\n",
    "    tf_valid_dataset = tf.constant(valid_dataset)\n",
    "    tf_test_dataset = tf.constant(test_dataset)\n",
    "    \n",
    "    # Variables(weights and biases)\n",
    "    C1_weights = tf.Variable(tf.truncated_normal([patch_size, patch_size, num_channels, depth1], stddev=0.1))\n",
    "    # convolution's weights are called filter in tensorflow\n",
    "    # it is a tensor of shape [kernel_hight,kernel_width,in_channels,out_channels]\n",
    "    C1_biases = tf.Variable(tf.zeros([depth1]))\n",
    "                            \n",
    "    # S1_weights # Sub-sampling doesn't need weights and biases\n",
    "    # S1_biases\n",
    "    \n",
    "    C3_weights = tf.Variable(tf.truncated_normal([patch_size, patch_size, depth1, depth2], stddev=0.1))\n",
    "    C3_biases = tf.Variable(tf.constant(1.0, shape=[depth2]))\n",
    "                            \n",
    "    # S4_weights\n",
    "    # S4_biases\n",
    "     \n",
    "    # C5 actually is a fully-connected layer                        \n",
    "    C5_weights = tf.Variable(tf.truncated_normal([6 * 6 * depth2, C5_units], stddev=0.1))\n",
    "    C5_biases = tf.Variable(tf.constant(1.0, shape=[C5_units]))\n",
    "         \n",
    "    F6_weights = tf.Variable(tf.truncated_normal([C5_units,F6_units], stddev=0.1))\n",
    "    F6_biases = tf.Variable(tf.constant(1.0, shape=[F6_units]))\n",
    "                                \n",
    "    # FC and logistic regression replace RBF\n",
    "    F7_weights = tf.Variable(tf.truncated_normal([F6_units,F7_units], stddev=0.1))\n",
    "    F7_biases = tf.Variable(tf.constant(1.0, shape=[F7_units]))\n",
    "\n",
    "    # Model\n",
    "    def model(data):\n",
    "        conv = tf.nn.conv2d(data, C1_weights, [1, 1, 1, 1], padding='SAME')\n",
    "        hidden = tf.nn.relu(conv + C1_biases) # relu is better than tanh\n",
    "        \n",
    "        max_pool = tf.nn.max_pool(hidden,[1,kernel_size,kernel_size,1],[1,2,2,1],'VALID')\n",
    "        hidden = tf.nn.relu(max_pool)\n",
    "                                \n",
    "        conv = tf.nn.conv2d(hidden, C3_weights, [1, 1, 1, 1], padding='VALID')\n",
    "        hidden = tf.nn.relu(conv + C3_biases)\n",
    "\n",
    "        max_pool = tf.nn.max_pool(hidden,[1,kernel_size,kernel_size,1],[1,2,2,1],'VALID')\n",
    "        hidden = tf.nn.relu(max_pool)\n",
    "                            \n",
    "        shape = hidden.get_shape().as_list()\n",
    "        reshape = tf.reshape(hidden, [shape[0], shape[1] * shape[2] * shape[3]])\n",
    "        hidden = tf.nn.relu(tf.matmul(reshape, C5_weights) + C5_biases)\n",
    "                            \n",
    "        fc = tf.matmul(hidden,F6_weights)\n",
    "        hidden = tf.nn.relu(fc + F6_biases)\n",
    "        \n",
    "        fc = tf.matmul(hidden,F7_weights)\n",
    "        output = fc + F7_biases\n",
    "    \n",
    "        return output\n",
    "\n",
    "    \n",
    "    # Training computation.\n",
    "    tf_train_dataset = tf.nn.dropout(tf_train_dataset,0.8) # input dropout\n",
    "    logits = model(tf_train_dataset)\n",
    "    loss = tf.reduce_mean(tf.nn.softmax_cross_entropy_with_logits(logits, tf_train_labels))\n",
    "    \n",
    "    # Optimizer.\n",
    "    optimizer = tf.train.GradientDescentOptimizer(0.001).minimize(loss)\n",
    "  \n",
    "    # Predictions for the training, validation, and test data.\n",
    "    train_prediction = tf.nn.softmax(logits)\n",
    "    valid_prediction = tf.nn.softmax(model(tf_valid_dataset))\n",
    "    test_prediction = tf.nn.softmax(model(tf_test_dataset))"
   ]
  },
  {
   "cell_type": "markdown",
   "metadata": {},
   "source": [
    "#### 6. Train NN"
   ]
  },
  {
   "cell_type": "code",
   "execution_count": 17,
   "metadata": {
    "collapsed": false,
    "scrolled": true
   },
   "outputs": [
    {
     "name": "stdout",
     "output_type": "stream",
     "text": [
      "Initialized\n",
      "Minibatch loss at step 0: 3.511227\n",
      "Minibatch accuracy: 6.2%\n",
      "Validation accuracy: 11.0%\n",
      "--------------------------------------\n",
      "Minibatch loss at step 1000: 2.277831\n",
      "Minibatch accuracy: 18.8%\n",
      "Validation accuracy: 22.8%\n",
      "--------------------------------------\n",
      "Minibatch loss at step 2000: 1.683528\n",
      "Minibatch accuracy: 56.2%\n",
      "Validation accuracy: 47.9%\n",
      "--------------------------------------\n",
      "Minibatch loss at step 3000: 0.770079\n",
      "Minibatch accuracy: 93.8%\n",
      "Validation accuracy: 73.1%\n",
      "--------------------------------------\n",
      "Minibatch loss at step 4000: 0.752079\n",
      "Minibatch accuracy: 75.0%\n",
      "Validation accuracy: 81.8%\n",
      "--------------------------------------\n",
      "Minibatch loss at step 5000: 0.577130\n",
      "Minibatch accuracy: 75.0%\n",
      "Validation accuracy: 82.7%\n",
      "--------------------------------------\n",
      "Minibatch loss at step 6000: 0.394106\n",
      "Minibatch accuracy: 93.8%\n",
      "Validation accuracy: 90.2%\n",
      "--------------------------------------\n",
      "Minibatch loss at step 7000: 0.245935\n",
      "Minibatch accuracy: 87.5%\n",
      "Validation accuracy: 92.4%\n",
      "--------------------------------------\n",
      "Minibatch loss at step 8000: 0.265776\n",
      "Minibatch accuracy: 93.8%\n",
      "Validation accuracy: 91.7%\n",
      "--------------------------------------\n",
      "Minibatch loss at step 9000: 0.386710\n",
      "Minibatch accuracy: 81.2%\n",
      "Validation accuracy: 93.5%\n",
      "--------------------------------------\n",
      "Minibatch loss at step 10000: 0.143112\n",
      "Minibatch accuracy: 93.8%\n",
      "Validation accuracy: 92.3%\n",
      "--------------------------------------\n",
      "Minibatch loss at step 11000: 0.160769\n",
      "Minibatch accuracy: 93.8%\n",
      "Validation accuracy: 94.3%\n",
      "--------------------------------------\n",
      "Minibatch loss at step 12000: 0.302719\n",
      "Minibatch accuracy: 87.5%\n",
      "Validation accuracy: 93.1%\n",
      "--------------------------------------\n",
      "Minibatch loss at step 13000: 0.156408\n",
      "Minibatch accuracy: 93.8%\n",
      "Validation accuracy: 94.7%\n",
      "--------------------------------------\n",
      "Minibatch loss at step 14000: 0.154247\n",
      "Minibatch accuracy: 93.8%\n",
      "Validation accuracy: 95.6%\n",
      "--------------------------------------\n",
      "Test accuracy: 96.1%\n",
      "Excution time: 1.46min\n",
      "Input an index of test image (or Enter to quit): 1\n",
      "Input an index of test image (or Enter to quit): 2\n",
      "Input an index of test image (or Enter to quit): 3\n",
      "Input an index of test image (or Enter to quit): 0\n",
      "Input an index of test image (or Enter to quit): 4\n",
      "Input an index of test image (or Enter to quit): 78\n",
      "Input an index of test image (or Enter to quit): 200\n",
      "Input an index of test image (or Enter to quit): 34\n",
      "Input an index of test image (or Enter to quit): 67\n",
      "Input an index of test image (or Enter to quit): 678\n",
      "Input an index of test image (or Enter to quit): 976\n",
      "Input an index of test image (or Enter to quit): 4546\n",
      "Input an index of test image (or Enter to quit): 678\n",
      "Input an index of test image (or Enter to quit): 34\n",
      "Input an index of test image (or Enter to quit): 578\n",
      "Input an index of test image (or Enter to quit): 1200\n",
      "Input an index of test image (or Enter to quit): 789\n",
      "Input an index of test image (or Enter to quit): 987\n",
      "Input an index of test image (or Enter to quit): 2000\n",
      "Input an index of test image (or Enter to quit): \n"
     ]
    },
    {
     "ename": "ValueError",
     "evalue": "invalid literal for int() with base 10: ''",
     "output_type": "error",
     "traceback": [
      "\u001b[1;31m---------------------------------------------------------------------------\u001b[0m",
      "\u001b[1;31mValueError\u001b[0m                                Traceback (most recent call last)",
      "\u001b[1;32m<ipython-input-17-dff2a487b476>\u001b[0m in \u001b[0;36m<module>\u001b[1;34m()\u001b[0m\n\u001b[0;32m     27\u001b[0m   \u001b[1;32mwhile\u001b[0m\u001b[1;33m(\u001b[0m\u001b[0mi_test\u001b[0m\u001b[1;33m!=\u001b[0m\u001b[1;34m''\u001b[0m\u001b[1;33m)\u001b[0m\u001b[1;33m:\u001b[0m\u001b[1;33m\u001b[0m\u001b[0m\n\u001b[0;32m     28\u001b[0m         \u001b[0mi_test\u001b[0m \u001b[1;33m=\u001b[0m \u001b[0minput\u001b[0m\u001b[1;33m(\u001b[0m\u001b[1;34m\"Input an index of test image (or Enter to quit): \"\u001b[0m\u001b[1;33m)\u001b[0m\u001b[1;33m\u001b[0m\u001b[0m\n\u001b[1;32m---> 29\u001b[1;33m         \u001b[0mlabel\u001b[0m \u001b[1;33m=\u001b[0m \u001b[0mtest_labels\u001b[0m\u001b[1;33m[\u001b[0m\u001b[0mint\u001b[0m\u001b[1;33m(\u001b[0m\u001b[0mi_test\u001b[0m\u001b[1;33m)\u001b[0m\u001b[1;33m,\u001b[0m\u001b[1;33m:\u001b[0m\u001b[1;33m]\u001b[0m\u001b[1;33m.\u001b[0m\u001b[0mtolist\u001b[0m\u001b[1;33m(\u001b[0m\u001b[1;33m)\u001b[0m\u001b[1;33m\u001b[0m\u001b[0m\n\u001b[0m\u001b[0;32m     30\u001b[0m         \u001b[1;31m#print(\"Correct label: \"+value2name[label.index(1)])\u001b[0m\u001b[1;33m\u001b[0m\u001b[1;33m\u001b[0m\u001b[0m\n\u001b[0;32m     31\u001b[0m         \u001b[0mimage\u001b[0m \u001b[1;33m=\u001b[0m \u001b[0mtest_dataset\u001b[0m\u001b[1;33m[\u001b[0m\u001b[0mint\u001b[0m\u001b[1;33m(\u001b[0m\u001b[0mi_test\u001b[0m\u001b[1;33m)\u001b[0m\u001b[1;33m,\u001b[0m\u001b[1;33m:\u001b[0m\u001b[1;33m,\u001b[0m\u001b[1;33m:\u001b[0m\u001b[1;33m,\u001b[0m\u001b[1;33m:\u001b[0m\u001b[1;33m]\u001b[0m\u001b[1;33m.\u001b[0m\u001b[0mreshape\u001b[0m\u001b[1;33m(\u001b[0m\u001b[1;33m(\u001b[0m\u001b[1;33m-\u001b[0m\u001b[1;36m1\u001b[0m\u001b[1;33m,\u001b[0m\u001b[0mimage_size\u001b[0m\u001b[1;33m,\u001b[0m\u001b[0mimage_size\u001b[0m\u001b[1;33m,\u001b[0m\u001b[0mnum_channels\u001b[0m\u001b[1;33m)\u001b[0m\u001b[1;33m)\u001b[0m\u001b[1;33m.\u001b[0m\u001b[0mastype\u001b[0m\u001b[1;33m(\u001b[0m\u001b[0mnp\u001b[0m\u001b[1;33m.\u001b[0m\u001b[0mfloat32\u001b[0m\u001b[1;33m)\u001b[0m\u001b[1;33m\u001b[0m\u001b[0m\n",
      "\u001b[1;31mValueError\u001b[0m: invalid literal for int() with base 10: ''"
     ]
    }
   ],
   "source": [
    "## training\n",
    "start_time = time.time()\n",
    "\n",
    "num_steps = 15000\n",
    "config = tf.ConfigProto()\n",
    "config.log_device_placement = True\n",
    "with tf.Session(graph=graph, config = config) as session:\n",
    "  tf.initialize_all_variables().run()\n",
    "  print('Initialized')\n",
    "  for step in range(num_steps):\n",
    "    offset = (step * batch_size) % (train_labels.shape[0] - batch_size)\n",
    "    batch_data = train_dataset[offset:(offset + batch_size), :, :, :]\n",
    "    batch_labels = train_labels[offset:(offset + batch_size), :]\n",
    "    feed_dict = {tf_train_dataset : batch_data, tf_train_labels : batch_labels}\n",
    "    _, l, predictions = session.run(\n",
    "      [optimizer, loss, train_prediction], feed_dict=feed_dict)\n",
    "    if (step % 1000 == 0):\n",
    "      print('Minibatch loss at step %d: %f' % (step, l))\n",
    "      print('Minibatch accuracy: %.1f%%' % accuracy(predictions, batch_labels))\n",
    "      print('Validation accuracy: %.1f%%' % accuracy(valid_prediction.eval(), valid_labels))\n",
    "      print('--------------------------------------')\n",
    "  print('Test accuracy: %.1f%%' % accuracy(test_prediction.eval(), test_labels))\n",
    "  end_time = time.time()\n",
    "  duration = (end_time - start_time)/60\n",
    "  print(\"Excution time: %0.2fmin\" % duration)\n",
    "  i_test = 0\n",
    "  while(i_test!=''):\n",
    "        i_test = input(\"Input an index of test image (or Enter to quit): \")\n",
    "        label = test_labels[int(i_test),:].tolist()\n",
    "        #print(\"Correct label: \"+value2name[label.index(1)])\n",
    "        image = test_dataset[int(i_test),:,:,:].reshape((-1,image_size,image_size,num_channels)).astype(np.float32)\n",
    "        prediction = tf.nn.softmax(model(image))\n",
    "        pre_dict = dict(zip(list(range(9)),prediction.eval()[0]))\n",
    "        sorted_pre_dict = sorted(pre_dict.items(), key=operator.itemgetter(1))\n",
    "        name1 = value2name[sorted_pre_dict[-1][0]]\n",
    "        value1 = str(sorted_pre_dict[-1][1])\n",
    "        name2 = value2name[sorted_pre_dict[-2][0]]\n",
    "        value2 = str(sorted_pre_dict[-2][1])\n",
    "        tile = name1+': '+value1+'\\n'+name2+': '+value2\n",
    "        image = image.reshape((image_size,image_size)).astype(np.float32)\n",
    "        plt.imshow(image,cmap='Greys_r')\n",
    "        plt.suptitle(tile, fontsize=12)\n",
    "        plt.xlabel(value2name[label.index(1)], fontsize=12)\n",
    "        plt.show()\n",
    "        "
   ]
  }
 ],
 "metadata": {
  "kernelspec": {
   "display_name": "Python 3",
   "language": "python",
   "name": "python3"
  },
  "language_info": {
   "codemirror_mode": {
    "name": "ipython",
    "version": 3
   },
   "file_extension": ".py",
   "mimetype": "text/x-python",
   "name": "python",
   "nbconvert_exporter": "python",
   "pygments_lexer": "ipython3",
   "version": "3.4.3"
  }
 },
 "nbformat": 4,
 "nbformat_minor": 0
}
