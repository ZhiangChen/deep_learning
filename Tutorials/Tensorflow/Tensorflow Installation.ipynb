{
 "cells": [
  {
   "cell_type": "markdown",
   "metadata": {},
   "source": [
    "# Tensorflow Installation\n",
    "Zhiang Chen, June 2016"
   ]
  },
  {
   "cell_type": "markdown",
   "metadata": {},
   "source": [
    "# Tensorflow (CPU only, python3)\n",
    "---\n",
    "```$ sudo apt-get update```\n",
    "\n",
    "```$ sudo apt-get install python3-pip python3-dev libffi-dev```\n",
    "\n",
    "```$ sudo pip3 install --upgrade https://storage.googleapis.com/tensorflow/linux/cpu/tensorflow-0.8.0-cp34-cp34m-linux_x86_64.whl```\n",
    "\n",
    "\n",
    "*Test:*\n",
    "\n",
    "```$ python3```\n",
    "```python3\n",
    "import tensorflow as tf\n",
    "hello = tf.constant('Hello, TensorFlow!')\n",
    "sess = tf.Session()\n",
    "print(sess.run(hello))\n",
    "a = tf.constant(10)\n",
    "b = tf.constant(32)\n",
    "print(sess.run(a + b))\n",
    "```\n",
    "# Other python packages\n",
    "\n",
    "```$ sudo apt-get install python3-matplotlib python3-numpy python3-scipy```\n",
    "\n",
    "```$ sudo pip3 install -U scikit-learn```\n",
    "\n",
    "# IPython notebook\n",
    "---\n",
    "```$ sudo pip3 install jupyter```\n",
    "\n",
    "*Test:*\n",
    "\n",
    "```$ jupyter notebook```\n",
    "\n",
    "Create a new python3 notebook.\n",
    "\n",
    "Run the code below in the cell:\n",
    "```python3\n",
    "import tensorflow as tf\n",
    "hello = tf.constant('Hello, TensorFlow!')\n",
    "sess = tf.Session()\n",
    "print(sess.run(hello))\n",
    "a = tf.constant(10)\n",
    "b = tf.constant(32)\n",
    "print(sess.run(a + b))\n",
    "```\n",
    "# Tensorflow Sources\n",
    "$ git clone --recurse-submodules https://github.com/tensorflow/tensorflow\n",
    "\n",
    "Currently, Tensorflow has [GPU allocation problems](https://github.com/tensorflow/tensorflow/issues/136). It can be solved by using ‘BFC’ (Best-fit with coalescing), or manually allocating GPUs. Also see [comments](https://github.com/tensorflow/tensorflow/blob/30b52579f6d66071ac7cdc7179e2c4aae3c9cb88/tensorflow/core/protobuf/config.proto).\n"
   ]
  },
  {
   "cell_type": "code",
   "execution_count": null,
   "metadata": {
    "collapsed": true
   },
   "outputs": [],
   "source": []
  }
 ],
 "metadata": {
  "kernelspec": {
   "display_name": "Python 3",
   "language": "python",
   "name": "python3"
  },
  "language_info": {
   "codemirror_mode": {
    "name": "ipython",
    "version": 3
   },
   "file_extension": ".py",
   "mimetype": "text/x-python",
   "name": "python",
   "nbconvert_exporter": "python",
   "pygments_lexer": "ipython3",
   "version": "3.4.3"
  }
 },
 "nbformat": 4,
 "nbformat_minor": 0
}
